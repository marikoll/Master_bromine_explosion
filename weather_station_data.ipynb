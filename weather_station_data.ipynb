{
 "cells": [
  {
   "cell_type": "markdown",
   "metadata": {},
   "source": [
    "## Routine for importing EBAS files and plotting $O_3$ data\n",
    "\n"
   ]
  },
  {
   "cell_type": "markdown",
   "metadata": {},
   "source": [
    "Packages needed:"
   ]
  },
  {
   "cell_type": "code",
   "execution_count": 2,
   "metadata": {},
   "outputs": [],
   "source": [
    "import os, glob, sys\n",
    "import numpy as np\n",
    "import datetime as dt\n",
    "import pandas as pd\n",
    "from scipy import fftpack\n",
    "from scipy import stats\n",
    "import zipfile\n",
    "import matplotlib.pyplot as plt\n",
    "import matplotlib.path as mpath"
   ]
  },
  {
   "cell_type": "markdown",
   "metadata": {},
   "source": [
    "Import zipfiles:"
   ]
  },
  {
   "cell_type": "code",
   "execution_count": 3,
   "metadata": {},
   "outputs": [],
   "source": [
    "def unzip(file, folder):\n",
    "    with zipfile.ZipFile(file, 'r') as zip_ref:\n",
    "        zip_ref.extractall('{}/'.format(folder))\n"
   ]
  },
  {
   "cell_type": "code",
   "execution_count": 10,
   "metadata": {},
   "outputs": [
    {
     "name": "stdout",
     "output_type": "stream",
     "text": [
      "/Users/maritkollstuen/Weather_station_data\n"
     ]
    }
   ],
   "source": [
    "#os.chdir('ODEfiles/')\n",
    "\n",
    "# Alert 2000-2003: \n",
    "\n",
    "ALT00_03 = 'EBAS_Alert_2000-2003.zip'\n",
    "unzip(ALT00_03, 'ALT00_03')\n",
    "\n",
    "# Eureka 2018:\n",
    "\n",
    "EUK18 = 'EBAS_Eureka_2018.zip'\n",
    "unzip(EUK18, 'EUK18')\n",
    "\n",
    "# Station Nord 2008-2015:\n",
    "\n",
    "DK0010G08_15 = 'EBAS_StationNord_2008-2015.zip'\n",
    "unzip(DK0010G08_15, 'DK0010G08_15')\n",
    "\n",
    "# Summit 2004-2007:\n",
    "\n",
    "SUM04_07 = 'EBAS_Summit_2004-2007.zip'\n",
    "unzip(SUM04_07, 'SUM04_07')\n",
    "\n",
    "# Tiksi 2013-2015:\n",
    "\n",
    "TIK13_15 = 'EBAS_Tiksi_2013-2015.zip'\n",
    "unzip(TIK13_15, 'TIK13_15')\n",
    "\n",
    "# Zeppelin 1999-2002:\n",
    " \n",
    "ZEP99_02 = 'EBAS_Zeppelin_1999-2002.zip'\n",
    "unzip(ZEP99_02, 'ZEP99_02')\n",
    "\n",
    "# Zeppelin 2005-2007:\n",
    "\n",
    "ZEP05_07 = 'EBAS_Zeppelin_2005-2007.zip'\n",
    "unzip(ZEP05_07, 'ZEP05_07')\n",
    "\n",
    "# Change directory back to home directory\n",
    "os.chdir('..')\n",
    "# check that it's the correct directory\n",
    "cwd = os.getcwd()\n",
    "print(cwd)"
   ]
  },
  {
   "cell_type": "markdown",
   "metadata": {},
   "source": [
    "Read data:"
   ]
  },
  {
   "cell_type": "code",
   "execution_count": 11,
   "metadata": {},
   "outputs": [
    {
     "data": {
      "text/html": [
       "<div>\n",
       "<style scoped>\n",
       "    .dataframe tbody tr th:only-of-type {\n",
       "        vertical-align: middle;\n",
       "    }\n",
       "\n",
       "    .dataframe tbody tr th {\n",
       "        vertical-align: top;\n",
       "    }\n",
       "\n",
       "    .dataframe thead th {\n",
       "        text-align: right;\n",
       "    }\n",
       "</style>\n",
       "<table border=\"1\" class=\"dataframe\">\n",
       "  <thead>\n",
       "    <tr style=\"text-align: right;\">\n",
       "      <th></th>\n",
       "      <th>starttime</th>\n",
       "      <th>endtime</th>\n",
       "      <th>O3</th>\n",
       "      <th>flag_O3</th>\n",
       "    </tr>\n",
       "  </thead>\n",
       "  <tbody>\n",
       "    <tr>\n",
       "      <td>0</td>\n",
       "      <td>0.375000</td>\n",
       "      <td>0.416667</td>\n",
       "      <td>63.56</td>\n",
       "      <td>0.0</td>\n",
       "    </tr>\n",
       "    <tr>\n",
       "      <td>1</td>\n",
       "      <td>0.416667</td>\n",
       "      <td>0.458333</td>\n",
       "      <td>63.34</td>\n",
       "      <td>0.0</td>\n",
       "    </tr>\n",
       "    <tr>\n",
       "      <td>2</td>\n",
       "      <td>0.458333</td>\n",
       "      <td>0.500000</td>\n",
       "      <td>64.38</td>\n",
       "      <td>0.0</td>\n",
       "    </tr>\n",
       "    <tr>\n",
       "      <td>3</td>\n",
       "      <td>0.500000</td>\n",
       "      <td>0.541667</td>\n",
       "      <td>64.02</td>\n",
       "      <td>0.0</td>\n",
       "    </tr>\n",
       "    <tr>\n",
       "      <td>4</td>\n",
       "      <td>0.541667</td>\n",
       "      <td>0.583333</td>\n",
       "      <td>64.76</td>\n",
       "      <td>0.0</td>\n",
       "    </tr>\n",
       "  </tbody>\n",
       "</table>\n",
       "</div>"
      ],
      "text/plain": [
       "   starttime   endtime     O3  flag_O3\n",
       "0   0.375000  0.416667  63.56      0.0\n",
       "1   0.416667  0.458333  63.34      0.0\n",
       "2   0.458333  0.500000  64.38      0.0\n",
       "3   0.500000  0.541667  64.02      0.0\n",
       "4   0.541667  0.583333  64.76      0.0"
      ]
     },
     "execution_count": 11,
     "metadata": {},
     "output_type": "execute_result"
    }
   ],
   "source": [
    "# flags: 0.999\n",
    "\n",
    "# from pyaerocom.io import EbasNasaAmesFile\n",
    "\n",
    "path = 'ODEfiles/'\n",
    "stations = [ALT00_03, EUK18, DK0010G08_15, SUM04_07, TIK13_15, ZEP99_02, ZEP05_07]\n",
    "header_starts = [52, 78, 44, 74, 76, 51, 51]\n",
    "\n",
    "\n",
    "file = 'ALT00_03/CA0420G.20000101090000.20140501000000.uv_abs.ozone.air.1y.1h.CA01L_O3mon_420.CA01L_UV_absorption..nas'\n",
    "\n",
    "alt1 = pd.read_table(path + file, sep='\\s+', header = 52)\n",
    "alt1.head()"
   ]
  },
  {
   "cell_type": "markdown",
   "metadata": {},
   "source": [
    "### Barrow: plain text files"
   ]
  },
  {
   "cell_type": "code",
   "execution_count": 12,
   "metadata": {},
   "outputs": [
    {
     "data": {
      "text/html": [
       "<div>\n",
       "<style scoped>\n",
       "    .dataframe tbody tr th:only-of-type {\n",
       "        vertical-align: middle;\n",
       "    }\n",
       "\n",
       "    .dataframe tbody tr th {\n",
       "        vertical-align: top;\n",
       "    }\n",
       "\n",
       "    .dataframe thead th {\n",
       "        text-align: right;\n",
       "    }\n",
       "</style>\n",
       "<table border=\"1\" class=\"dataframe\">\n",
       "  <thead>\n",
       "    <tr style=\"text-align: right;\">\n",
       "      <th></th>\n",
       "      <th>something</th>\n",
       "      <th>Year</th>\n",
       "      <th>Month</th>\n",
       "      <th>Day</th>\n",
       "      <th>Hour</th>\n",
       "      <th>O3</th>\n",
       "    </tr>\n",
       "  </thead>\n",
       "  <tbody>\n",
       "    <tr>\n",
       "      <td>0</td>\n",
       "      <td>199</td>\n",
       "      <td>2005</td>\n",
       "      <td>1</td>\n",
       "      <td>1</td>\n",
       "      <td>1</td>\n",
       "      <td>34.8</td>\n",
       "    </tr>\n",
       "    <tr>\n",
       "      <td>1</td>\n",
       "      <td>199</td>\n",
       "      <td>2005</td>\n",
       "      <td>1</td>\n",
       "      <td>1</td>\n",
       "      <td>2</td>\n",
       "      <td>34.7</td>\n",
       "    </tr>\n",
       "    <tr>\n",
       "      <td>2</td>\n",
       "      <td>199</td>\n",
       "      <td>2005</td>\n",
       "      <td>1</td>\n",
       "      <td>1</td>\n",
       "      <td>3</td>\n",
       "      <td>33.3</td>\n",
       "    </tr>\n",
       "    <tr>\n",
       "      <td>3</td>\n",
       "      <td>199</td>\n",
       "      <td>2005</td>\n",
       "      <td>1</td>\n",
       "      <td>1</td>\n",
       "      <td>4</td>\n",
       "      <td>34.1</td>\n",
       "    </tr>\n",
       "    <tr>\n",
       "      <td>4</td>\n",
       "      <td>199</td>\n",
       "      <td>2005</td>\n",
       "      <td>1</td>\n",
       "      <td>1</td>\n",
       "      <td>5</td>\n",
       "      <td>34.3</td>\n",
       "    </tr>\n",
       "  </tbody>\n",
       "</table>\n",
       "</div>"
      ],
      "text/plain": [
       "   something  Year  Month  Day  Hour    O3\n",
       "0        199  2005      1    1     1  34.8\n",
       "1        199  2005      1    1     2  34.7\n",
       "2        199  2005      1    1     3  33.3\n",
       "3        199  2005      1    1     4  34.1\n",
       "4        199  2005      1    1     5  34.3"
      ]
     },
     "execution_count": 12,
     "metadata": {},
     "output_type": "execute_result"
    }
   ],
   "source": [
    "# Plain text, space separated, headerless files:\n",
    "\n",
    "BRW05 = pd.read_table(path + 'BRW_Ozone_Hourly_2005', sep='\\s+', header = None)\n",
    "BRW05.columns = ['something', 'Year', 'Month', 'Day', 'Hour', 'O3']\n",
    "BRW06 = pd.read_table(path + 'BRW_Ozone_Hourly_2006', sep='\\s+', header = None)\n",
    "BRW06.columns = ['something', 'Year', 'Month', 'Day', 'Hour', 'O3']\n",
    "BRW07 = pd.read_table(path + 'BRW_Ozone_Hourly_2007', sep='\\s+', header = None)\n",
    "BRW07.columns = ['something', 'Year', 'Month', 'Day', 'Hour', 'O3']\n",
    "BRW05.head()"
   ]
  },
  {
   "cell_type": "markdown",
   "metadata": {},
   "source": [
    "Plot data: "
   ]
  },
  {
   "cell_type": "markdown",
   "metadata": {},
   "source": [
    "### Create map of stations:"
   ]
  },
  {
   "cell_type": "code",
   "execution_count": 4,
   "metadata": {},
   "outputs": [],
   "source": [
    "import cartopy.crs as ccrs\n",
    "import cartopy.feature as cfeature\n",
    "import geopandas"
   ]
  },
  {
   "cell_type": "markdown",
   "metadata": {},
   "source": [
    "Create dataframe with the different stations and locations:"
   ]
  },
  {
   "cell_type": "code",
   "execution_count": 5,
   "metadata": {},
   "outputs": [],
   "source": [
    "Station_locations = (['Alert', 82.4991455078, -62.3415260315], \\\n",
    "                     ['Barrow', 71.325000, -156.625000], \\\n",
    "                     ['Zeppelin', 78.90715, 11.88668], \\\n",
    "                     ['Station Nord', 81.600000, -16.666667], \\\n",
    "                     ['Summit', 72.5800018311, -38.4799995422], \\\n",
    "                     ['Tiksi', 71.5861663818, 128.918823242], \\\n",
    "                     ['Eureka', 80.0500030518, -86.4166564941])\n",
    "df = pd.DataFrame(Station_locations, columns = ['Station', 'lat', 'lon'])"
   ]
  },
  {
   "cell_type": "code",
   "execution_count": 88,
   "metadata": {},
   "outputs": [
    {
     "data": {
      "image/png": "[encoded data removed]",
      "text/plain": [
       "<Figure size 360x360 with 1 Axes>"
      ]
     },
     "metadata": {
      "needs_background": "light"
     },
     "output_type": "display_data"
    }
   ],
   "source": [
    "extent = [-180, 180, 90, 60]\n",
    "resolution = '50m'\n",
    "pad_radius = 3600000.0\n",
    "fig = plt.figure(figsize=[5, 5])\n",
    "ax = fig.add_subplot(1, 1, 1, projection = ccrs.NorthPolarStereo(central_longitude = 0))\n",
    "\n",
    "#ax = plt.axes(projection=ccrs.NorthPolarStereo())\n",
    "#ax.coastlines(resolution = '110m')\n",
    "\n",
    "# Limit the map to 60 degrees latitude and above.\n",
    "#ax.set_extent(extent)#, ccrs.PlateCarree())\n",
    "#ax.gridlines()\n",
    "#ax.add_feature(cfeature.LAND)\n",
    "#ax.add_feature(cfeature.OCEAN)\n",
    "ax.set_xlim([-pad_radius, pad_radius])\n",
    "ax.set_ylim([-pad_radius, pad_radius])\n",
    "ax.imshow(np.tile(np.array([[cfeature.COLORS['water'] * 255]], dtype=np.uint8), [2, 2, 1]), origin='upper', transform=ccrs.PlateCarree(), extent=[-180, 180, -180, 180])\n",
    "ax.add_feature(cfeature.NaturalEarthFeature('physical', 'land', resolution, edgecolor='black', facecolor=cfeature.COLORS['land']))\n",
    "\n",
    "\n",
    "\n",
    "for index, row in df.iterrows():\n",
    "    ax.plot(row['lon'], row['lat'], 'r*', transform=ccrs.PlateCarree())\n",
    "    #print(index)\n",
    "    if index == 4:\n",
    "        ax.text(row['lon']+2, row['lat']+2, str(row['Station']), \\\n",
    "                bbox=dict(facecolor='white', fill='True', edgecolor='white', boxstyle='round'), \\\n",
    "                transform=ccrs.PlateCarree())\n",
    "    elif index == 1:\n",
    "        ax.text(row['lon']-3, row['lat']-3, str(row['Station']), \\\n",
    "            bbox=dict(facecolor='white', fill='True', edgecolor='white', boxstyle='round'), \\\n",
    "            transform=ccrs.PlateCarree())\n",
    "    elif index == 3:\n",
    "        ax.text(row['lon']+2, row['lat']+2, str(row['Station']), \\\n",
    "                bbox=dict(facecolor='white', fill='True', edgecolor='white', boxstyle='round'), \\\n",
    "                transform=ccrs.PlateCarree())\n",
    "    elif index == 5:\n",
    "        ax.text(row['lon']-3, row['lat']-3, str(row['Station']), \\\n",
    "                bbox=dict(facecolor='white', fill='True', edgecolor='white', boxstyle='round'), \\\n",
    "                transform=ccrs.PlateCarree())\n",
    "    elif index == 2:\n",
    "        ax.text(row['lon'], row['lat']-4, str(row['Station']), \\\n",
    "                bbox=dict(facecolor='white', fill='True', edgecolor='white', boxstyle='round'), \\\n",
    "                transform=ccrs.PlateCarree())\n",
    "    elif index == 0:\n",
    "        ax.text(row['lon']+2, row['lat']+2, str(row['Station']), \\\n",
    "                bbox=dict(facecolor='white', fill='True', edgecolor='white', boxstyle='round'), \\\n",
    "                transform=ccrs.PlateCarree())\n",
    "    elif index == 6:\n",
    "        ax.text(row['lon']-5, row['lat']-9, str(row['Station']), \\\n",
    "                bbox=dict(facecolor='white', fill='True', edgecolor='white', boxstyle='round'), \\\n",
    "                transform=ccrs.PlateCarree())\n",
    "#    elif index == 0 or 2 or 3 or 4 or 6:\n",
    "#        ax.text(row['lon']+6, row['lat']+6, str(row['Station']), \\\n",
    "#        bbox=dict(facecolor='white', fill='True', edgecolor='white', boxstyle='round'), \\\n",
    "#        transform=ccrs.PlateCarree())\n",
    "\n",
    "# Barrow, Tiksi = lon - 3 lat - 3\n",
    "# Station Nord, Summit = lon + 3, lat + 3\n",
    "\n",
    "\n",
    "# Compute a circle in axes coordinates, which we can use as a boundary\n",
    "# for the map. We can pan/zoom as much as we like - the boundary will be\n",
    "# permanently circular.\n",
    "#theta = np.linspace(0, 2*np.pi, 100)\n",
    "#center, radius = [0.5, 0.5], 0.5\n",
    "#verts = np.vstack([np.sin(theta), np.cos(theta)]).T\n",
    "#circle = mpath.Path(verts * radius + center)\n",
    "\n",
    "#ax.set_boundary(circle, transform=ax.transAxes)\n",
    "\n",
    "\n",
    "plt.show()"
   ]
  },
  {
   "cell_type": "code",
   "execution_count": null,
   "metadata": {},
   "outputs": [],
   "source": []
  }
 ],
 "metadata": {
  "kernelspec": {
   "display_name": "Python 3",
   "language": "python",
   "name": "python3"
  },
  "language_info": {
   "codemirror_mode": {
    "name": "ipython",
    "version": 3
   },
   "file_extension": ".py",
   "mimetype": "text/x-python",
   "name": "python",
   "nbconvert_exporter": "python",
   "pygments_lexer": "ipython3",
   "version": "3.7.0"
  }
 },
 "nbformat": 4,
 "nbformat_minor": 2
}
